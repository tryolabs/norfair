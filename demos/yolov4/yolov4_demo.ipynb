{
  "nbformat": 4,
  "nbformat_minor": 0,
  "metadata": {
    "colab": {
      "name": "yolov4_demo.ipynb",
      "provenance": [],
      "authorship_tag": "ABX9TyO4qLzod40698nm7MS6o+W8",
      "include_colab_link": true
    },
    "kernelspec": {
      "name": "python3",
      "display_name": "Python 3"
    },
    "accelerator": "GPU"
  },
  "cells": [
    {
      "cell_type": "markdown",
      "metadata": {
        "id": "view-in-github",
        "colab_type": "text"
      },
      "source": [
        "<a href=\"https://colab.research.google.com/github/wakamezake/norfair/blob/features%2Fadd_yolov4_colab_demo/demos/yolov4/yolov4_demo.ipynb\" target=\"_parent\"><img src=\"https://colab.research.google.com/assets/colab-badge.svg\" alt=\"Open In Colab\"/></a>"
      ]
    },
    {
      "cell_type": "markdown",
      "metadata": {
        "id": "OMsRlH8QwFQd"
      },
      "source": [
        "# Introduction\n",
        "\n",
        "This notebook is designed to run [Github - norfair/yolov4demo.py](https://github.com/tryolabs/norfair/blob/master/demos/yolov4/yolov4demo.py) on GoogleColabratory.\n",
        "\n",
        "The demo will use the following video.\n",
        "\n",
        "[![](https://img.youtube.com/vi/aio9g9_xVio/0.jpg)](https://www.youtube.com/watch?v=aio9g9_xVio)\n",
        "\n",
        "**Note**\n",
        "- Set the hardware accelerator setting of Colaboratory to **GPU** and execute it.\n",
        "(Runtime -> Change Runtime Type -> GPU)\n"
      ]
    },
    {
      "cell_type": "markdown",
      "metadata": {
        "id": "b9vEmKjb2SnV"
      },
      "source": [
        "# Install the required libraries"
      ]
    },
    {
      "cell_type": "code",
      "metadata": {
        "id": "-TosvQp8qFcW"
      },
      "source": [
        "!pip install -q norfair gdown youtube_dl"
      ],
      "execution_count": null,
      "outputs": []
    },
    {
      "cell_type": "markdown",
      "metadata": {
        "id": "-jZnwvD92hCA"
      },
      "source": [
        "# [YOLOv4](https://github.com/Tianxiaomo/pytorch-YOLOv4.git) Clone"
      ]
    },
    {
      "cell_type": "code",
      "metadata": {
        "id": "_pVfjd672Q5o"
      },
      "source": [
        "!git clone https://github.com/Tianxiaomo/pytorch-YOLOv4.git\n",
        "%cd pytorch-YOLOv4/"
      ],
      "execution_count": null,
      "outputs": []
    },
    {
      "cell_type": "markdown",
      "metadata": {
        "id": "GDpIEJW72tDy"
      },
      "source": [
        "# Download pre-trained weights(YOLOv4)"
      ]
    },
    {
      "cell_type": "code",
      "metadata": {
        "id": "UrYjbA9dvjfB"
      },
      "source": [
        "!gdown \"https://drive.google.com/uc?id=1wv_LiFeCRYwtpkqREPeI13-gPELBDwuJ\" -O yolov4.pth"
      ],
      "execution_count": null,
      "outputs": []
    },
    {
      "cell_type": "markdown",
      "metadata": {
        "id": "PDhsU4yH26GH"
      },
      "source": [
        "# Download [Video](https://www.youtube.com/watch?v=aio9g9_xVio) and Preprocessing\n",
        "We cut the video short because it's too long to play in Google Colabratory."
      ]
    },
    {
      "cell_type": "code",
      "metadata": {
        "id": "F2Ho1V0o23Sq"
      },
      "source": [
        "!youtube-dl https://www.youtube.com/watch?v=aio9g9_xVio -f mp4 --output sample.mp4\n",
        "!ffmpeg -i sample.mp4 -ss 7 -t 10 sample_10s.mp4"
      ],
      "execution_count": null,
      "outputs": []
    },
    {
      "cell_type": "markdown",
      "metadata": {
        "id": "yyRxBpno3Tf4"
      },
      "source": [
        "# Download [Github - norfair/yolov4demo.py](https://github.com/tryolabs/norfair/blob/master/demos/yolov4/yolov4demo.py) and Run yolov4demo.py"
      ]
    },
    {
      "cell_type": "code",
      "metadata": {
        "id": "Os2xvnOI3S_R"
      },
      "source": [
        "!wget \"https://raw.githubusercontent.com/tryolabs/norfair/master/demos/yolov4/yolov4demo.py\" -O yolov4demo.py\n",
        "!python yolov4demo.py sample_10s.mp4"
      ],
      "execution_count": null,
      "outputs": []
    },
    {
      "cell_type": "markdown",
      "metadata": {
        "id": "gkQIIlYN4Mha"
      },
      "source": [
        "# Convert mp4 to webm\n",
        "Reference: [StackOverflow - python-opencv-video-format-play-in-browser](https://stackoverflow.com/questions/49530857/python-opencv-video-format-play-in-browser)"
      ]
    },
    {
      "cell_type": "code",
      "metadata": {
        "id": "wsJUOKOD7mT7"
      },
      "source": [
        "!ffmpeg -i ./sample_10s_out.mp4 -vcodec vp9 ./sample_10s.webm"
      ],
      "execution_count": null,
      "outputs": []
    },
    {
      "cell_type": "markdown",
      "metadata": {
        "id": "tJHAEirK4LtQ"
      },
      "source": [
        "# Displaying the Drawing Result"
      ]
    },
    {
      "cell_type": "code",
      "metadata": {
        "id": "zKN1li519ns4"
      },
      "source": [
        "import io\n",
        "from base64 import b64encode\n",
        "from IPython.display import HTML\n",
        "\n",
        "with  io.open('sample_10s.webm','r+b') as f:\n",
        "    mp4 = f.read()\n",
        "data_url = \"data:video/webm;base64,\" + b64encode(mp4).decode()\n",
        "HTML(\"\"\"\n",
        "<video width=800 controls>\n",
        "      <source src=\"%s\" type=\"video/webm\">\n",
        "</video>\n",
        "\"\"\" % data_url)"
      ],
      "execution_count": null,
      "outputs": []
    },
    {
      "cell_type": "code",
      "metadata": {
        "id": "wPHLAHO_78oH"
      },
      "source": [
        ""
      ],
      "execution_count": null,
      "outputs": []
    }
  ]
}