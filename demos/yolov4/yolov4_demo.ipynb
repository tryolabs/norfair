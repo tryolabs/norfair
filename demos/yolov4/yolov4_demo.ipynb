{
 "cells": [
  {
   "cell_type": "markdown",
   "metadata": {
    "colab_type": "text",
    "id": "view-in-github"
   },
   "source": [
    "<a href=\"https://colab.research.google.com/github/tryolabs/norfair/blob/master/demos/yolov4/yolov4_demo.ipynb\" target=\"_parent\"><img src=\"https://colab.research.google.com/assets/colab-badge.svg\" alt=\"Open In Colab\"/></a>"
   ]
  },
  {
   "cell_type": "markdown",
   "metadata": {
    "id": "OMsRlH8QwFQd"
   },
   "source": [
    "# Simple car tracker\n",
    "\n",
    "Run a very simple car tracker on any Youtube video. This notebook is designed to run [norfair/yolov4demo.py](https://github.com/tryolabs/norfair/blob/master/demos/yolov4/yolov4demo.py) on Google Colabratory.\n",
    "\n",
    "The demo will use the following video by default, but you can change which video you use by changing the youtube link in [this cell](#Download-Video-and-Preprocessing). We trim the video to only a few seconds due to limitations with video playback in Google Colab, but you can play with these limitations and see what you get.\n",
    "\n",
    "[![](https://img.youtube.com/vi/aio9g9_xVio/0.jpg)](https://www.youtube.com/watch?v=aio9g9_xVio)\n",
    "\n",
    "**Note**\n",
    "- Set the hardware accelerator setting of Colaboratory to **GPU** and execute it.\n",
    "(Runtime -> Change Runtime Type -> GPU)\n"
   ]
  },
  {
   "cell_type": "markdown",
   "metadata": {
    "id": "b9vEmKjb2SnV"
   },
   "source": [
    "# Install the required libraries"
   ]
  },
  {
   "cell_type": "code",
   "execution_count": null,
   "metadata": {
    "id": "-TosvQp8qFcW"
   },
   "outputs": [],
   "source": [
    "!pip install -q norfair gdown youtube_dl"
   ]
  },
  {
   "cell_type": "markdown",
   "metadata": {},
   "source": [
    "# Download [Video](https://www.youtube.com/watch?v=aio9g9_xVio) and Preprocessing\n",
    "We cut the video short because it's too long to play in Google Colabratory."
   ]
  },
  {
   "cell_type": "code",
   "execution_count": null,
   "metadata": {},
   "outputs": [],
   "source": [
    "!youtube-dl https://www.youtube.com/watch?v=aio9g9_xVio -f mp4 --output sample.mp4\n",
    "!ffmpeg -i sample.mp4 -ss 7 -t 10 sample_10s.mp4"
   ]
  },
  {
   "cell_type": "markdown",
   "metadata": {
    "id": "-jZnwvD92hCA"
   },
   "source": [
    "# [YOLOv4](https://github.com/Tianxiaomo/pytorch-YOLOv4.git) Clone"
   ]
  },
  {
   "cell_type": "code",
   "execution_count": null,
   "metadata": {
    "id": "_pVfjd672Q5o"
   },
   "outputs": [],
   "source": [
    "!git clone https://github.com/Tianxiaomo/pytorch-YOLOv4.git\n",
    "%cd pytorch-YOLOv4/"
   ]
  },
  {
   "cell_type": "markdown",
   "metadata": {
    "id": "GDpIEJW72tDy"
   },
   "source": [
    "# Download pre-trained weights(YOLOv4)"
   ]
  },
  {
   "cell_type": "code",
   "execution_count": null,
   "metadata": {
    "id": "UrYjbA9dvjfB"
   },
   "outputs": [],
   "source": [
    "!gdown \"https://drive.google.com/uc?id=1wv_LiFeCRYwtpkqREPeI13-gPELBDwuJ\" -O yolov4.pth"
   ]
  },
  {
   "cell_type": "markdown",
   "metadata": {
    "id": "yyRxBpno3Tf4"
   },
   "source": [
    "# Download [Github - norfair/yolov4demo.py](https://github.com/tryolabs/norfair/blob/master/demos/yolov4/yolov4demo.py) and Run yolov4demo.py"
   ]
  },
  {
   "cell_type": "code",
   "execution_count": null,
   "metadata": {
    "id": "Os2xvnOI3S_R"
   },
   "outputs": [],
   "source": [
    "!wget \"https://raw.githubusercontent.com/tryolabs/norfair/master/demos/yolov4/yolov4demo.py\" -O yolov4demo.py\n",
    "!python yolov4demo.py ../sample_10s.mp4"
   ]
  },
  {
   "cell_type": "markdown",
   "metadata": {
    "id": "gkQIIlYN4Mha"
   },
   "source": [
    "# Convert mp4 to webm\n",
    "Reference: [StackOverflow - python-opencv-video-format-play-in-browser](https://stackoverflow.com/questions/49530857/python-opencv-video-format-play-in-browser)"
   ]
  },
  {
   "cell_type": "code",
   "execution_count": null,
   "metadata": {
    "id": "wsJUOKOD7mT7"
   },
   "outputs": [],
   "source": [
    "!ffmpeg -i ./sample_10s_out.mp4 -vcodec vp9 ./sample_10s.webm"
   ]
  },
  {
   "cell_type": "markdown",
   "metadata": {
    "id": "tJHAEirK4LtQ"
   },
   "source": [
    "# Displaying the Drawing Result"
   ]
  },
  {
   "cell_type": "code",
   "execution_count": null,
   "metadata": {
    "id": "zKN1li519ns4"
   },
   "outputs": [],
   "source": [
    "import io\n",
    "from base64 import b64encode\n",
    "from IPython.display import HTML\n",
    "\n",
    "with  io.open('sample_10s.webm','r+b') as f:\n",
    "    mp4 = f.read()\n",
    "data_url = \"data:video/webm;base64,\" + b64encode(mp4).decode()\n",
    "HTML(\"\"\"\n",
    "<video width=800 controls>\n",
    "      <source src=\"%s\" type=\"video/webm\">\n",
    "</video>\n",
    "\"\"\" % data_url)"
   ]
  }
 ],
 "metadata": {
  "accelerator": "GPU",
  "colab": {
   "authorship_tag": "ABX9TyO4qLzod40698nm7MS6o+W8",
   "include_colab_link": true,
   "name": "yolov4_demo.ipynb",
   "provenance": []
  },
  "kernelspec": {
   "display_name": "Python 3",
   "language": "python",
   "name": "python3"
  },
  "language_info": {
   "codemirror_mode": {
    "name": "ipython",
    "version": 3
   },
   "file_extension": ".py",
   "mimetype": "text/x-python",
   "name": "python",
   "nbconvert_exporter": "python",
   "pygments_lexer": "ipython3",
   "version": "3.7.7"
  }
 },
 "nbformat": 4,
 "nbformat_minor": 1
}
